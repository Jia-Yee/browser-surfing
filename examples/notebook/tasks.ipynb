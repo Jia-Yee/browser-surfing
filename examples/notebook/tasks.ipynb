{
 "cells": [
  {
   "cell_type": "code",
   "execution_count": 1,
   "id": "b0e4eec5",
   "metadata": {},
   "outputs": [
    {
     "name": "stdout",
     "output_type": "stream",
     "text": [
      "['You are a professional job finder. 1. Read my cv with read_cvfind ml internships in and save them to a filesearch at company:\\nGoogle']\n"
     ]
    }
   ],
   "source": [
    "ground_task = (\n",
    "    'You are a professional job finder. '\n",
    "    '1. Read my cv with read_cv'\n",
    "    'find ml internships in and save them to a file'\n",
    "    'search at company:'\n",
    ")\n",
    "tasks = [\n",
    "    ground_task + '\\n' + 'Google',\n",
    "    # ground_task + '\\n' + 'Amazon',\n",
    "    # ground_task + '\\n' + 'Apple',\n",
    "    # ground_task + '\\n' + 'Microsoft',\n",
    "    # ground_task\n",
    "    # + '\\n'\n",
    "    # + 'go to https://nvidia.wd5.myworkdayjobs.com/en-US/NVIDIAExternalCareerSite/job/Taiwan%2C-Remote/Fulfillment-Analyst---New-College-Graduate-2025_JR1988949/apply/autofillWithResume?workerSubType=0c40f6bd1d8f10adf6dae42e46d44a17&workerSubType=ab40a98049581037a3ada55b087049b7 NVIDIA',\n",
    "    # ground_task + '\\n' + 'Meta',\n",
    "]\n",
    "\n",
    "print(tasks)"
   ]
  }
 ],
 "metadata": {
  "kernelspec": {
   "display_name": ".venv",
   "language": "python",
   "name": "python3"
  },
  "language_info": {
   "codemirror_mode": {
    "name": "ipython",
    "version": 3
   },
   "file_extension": ".py",
   "mimetype": "text/x-python",
   "name": "python",
   "nbconvert_exporter": "python",
   "pygments_lexer": "ipython3",
   "version": "3.12.7"
  }
 },
 "nbformat": 4,
 "nbformat_minor": 5
}
